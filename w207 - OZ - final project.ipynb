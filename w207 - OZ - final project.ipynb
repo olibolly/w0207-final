{
 "cells": [
  {
   "cell_type": "code",
   "execution_count": 2,
   "metadata": {
    "collapsed": false
   },
   "outputs": [],
   "source": [
    "import numpy as np\n",
    "import csv\n",
    "import pandas as pd\n",
    "import tempfile\n",
    "\n",
    "from sklearn.neighbors import KNeighborsClassifier\n",
    "from sklearn.linear_model import LogisticRegression\n",
    "from sklearn.naive_bayes import MultinomialNB\n",
    "from sklearn.grid_search import GridSearchCV\n",
    "from sklearn import metrics\n",
    "from sklearn import preprocessing\n",
    "import tensorflow as tf\n",
    "import tensorflow.contrib.learn.python.learn as learn\n",
    "from sklearn import datasets, metrics, preprocessing\n",
    "from sklearn.preprocessing import LabelEncoder\n",
    "\n",
    "import warnings\n",
    "warnings.filterwarnings('ignore')"
   ]
  },
  {
   "cell_type": "code",
   "execution_count": 3,
   "metadata": {
    "collapsed": false
   },
   "outputs": [
    {
     "name": "stdout",
     "output_type": "stream",
     "text": [
      "(213451, 16)\n"
     ]
    }
   ],
   "source": [
    "train_users = pd.read_csv(\"/Users/ozimmer/Google Drive/berkeley/w207/final project/Group_Project/train_users_2.csv\")\n",
    "test_users = pd.read_csv(\"/Users/ozimmer/Google Drive/berkeley/w207/final project/Group_Project/test_users.csv\")\n",
    "test_id = test_users['id']"
   ]
  },
  {
   "cell_type": "markdown",
   "metadata": {},
   "source": [
    "## Feature engineering"
   ]
  },
  {
   "cell_type": "code",
   "execution_count": 9,
   "metadata": {
    "collapsed": false
   },
   "outputs": [],
   "source": [
    "df_train = train_users\n",
    "df_test = test_users\n",
    "\n",
    "# concatenate the train and test user files\n",
    "df_all = pd.concat((df_train, df_test), axis=0, ignore_index=True)\n",
    "\n",
    "# split date fields into 3 columns (year, month, day) to avoid having a feature for every possible date\n",
    "dac = np.vstack(df_all.date_account_created.astype(str).apply(lambda x: list(map(int, x.split('-')))).values)\n",
    "df_all['acct_create_year'] = dac[:,0]\n",
    "df_all['acct_create_month'] = dac[:,1]\n",
    "df_all['acct_create_day'] = dac[:,2]\n",
    "\n",
    "# concat account create month/year\n",
    "df_all['acct_create_month_year'] = df_all.acct_create_month.astype(str) +'/'+ df_all.acct_create_year.astype(str)\n",
    "\n",
    "# drop columns unecessary for prediction\n",
    "df_all = df_all.drop(['id', 'date_first_booking','date_account_created','timestamp_first_active','acct_create_day','acct_create_month','acct_create_year'], axis=1)\n",
    "\n",
    "#set unknown gender values to NA\n",
    "df_all.gender = df_all.gender.replace('-unknown-',np.nan)\n",
    "\n",
    "#fill NA values with -1\n",
    "df_all = df_all.fillna(\"NaN\")\n",
    "\n",
    "# The age field is populated with some outlying values and some year values (e.g., 2014)\n",
    "# This will pull only ages between 14 and 100\n",
    "av = df_all.age.values\n",
    "df_all['age'] = np.where(np.logical_or(av<14, av>100), 0, av)\n",
    "\n",
    "# encode categorical features with dummy values\n",
    "# categorical = ['acct_create_month_year', 'age', 'gender', 'signup_method', 'signup_flow', 'language', 'affiliate_channel', 'affiliate_provider', 'first_affiliate_tracked', 'signup_app', 'first_device_type', 'first_browser']\n",
    "# for f in categorical:\n",
    "#     df_all_dummy = pd.get_dummies(df_all[f], prefix=f)\n",
    "#     df_all = df_all.drop([f], axis=1)\n",
    "#     df_all = pd.concat((df_all, df_all_dummy), axis=1)\n",
    "\n",
    "#Encode label in integer for TensorFlow\n",
    "le = preprocessing.LabelEncoder()\n",
    "le.fit(df_all[\"country_destination\"])\n",
    "df_all[\"label\"] = le.transform(df_all[\"country_destination\"])"
   ]
  },
  {
   "cell_type": "code",
   "execution_count": 11,
   "metadata": {
    "collapsed": false
   },
   "outputs": [],
   "source": [
    "# After cleansing, split the data back up between the train and test users\n",
    "length_training_set = train_users.shape[0]\n",
    "train_values = df_all[:length_training_set] \n",
    "test_data = df_all[length_training_set:]\n",
    "\n",
    "# Split training values between train & dev sets \n",
    "np.random.seed(0)\n",
    "msk = np.random.rand(len(train_values)) < 0.75\n",
    "train_data = train_values[msk]\n",
    "dev_data = train_values[~msk]"
   ]
  },
  {
   "cell_type": "markdown",
   "metadata": {
    "collapsed": true
   },
   "source": [
    "## Linear classifier using TensorFlow"
   ]
  },
  {
   "cell_type": "code",
   "execution_count": 14,
   "metadata": {
    "collapsed": false
   },
   "outputs": [
    {
     "name": "stderr",
     "output_type": "stream",
     "text": [
      "WARNING:tensorflow:The default value of combiner will change from \"sum\" to \"sqrtn\" after 2016/11/01.\n",
      "WARNING:tensorflow:The default value of combiner will change from \"sum\" to \"sqrtn\" after 2016/11/01.\n",
      "WARNING:tensorflow:The default value of combiner will change from \"sum\" to \"sqrtn\" after 2016/11/01.\n",
      "WARNING:tensorflow:The default value of combiner will change from \"sum\" to \"sqrtn\" after 2016/11/01.\n",
      "WARNING:tensorflow:The default value of combiner will change from \"sum\" to \"sqrtn\" after 2016/11/01.\n",
      "WARNING:tensorflow:The default value of combiner will change from \"sum\" to \"sqrtn\" after 2016/11/01.\n",
      "WARNING:tensorflow:The default value of combiner will change from \"sum\" to \"sqrtn\" after 2016/11/01.\n",
      "WARNING:tensorflow:The default value of combiner will change from \"sum\" to \"sqrtn\" after 2016/11/01.\n",
      "WARNING:tensorflow:The default value of combiner will change from \"sum\" to \"sqrtn\" after 2016/11/01.\n",
      "WARNING:tensorflow:The default value of combiner will change from \"sum\" to \"sqrtn\" after 2016/11/01.\n",
      "WARNING:tensorflow:Change warning: default value of `enable_centered_bias` will change after 2016-10-09. It will be disabled by default.Instructions for keeping existing behaviour:\n",
      "Explicitly set `enable_centered_bias` to 'True' if you want to keep existing behaviour.\n",
      "WARNING:tensorflow:Using default config.\n",
      "WARNING:tensorflow:tf.variable_op_scope(values, name, default_name) is deprecated, use tf.variable_scope(name, default_name, values)\n",
      "WARNING:tensorflow:Given features: {'signup_flow': <tf.Tensor 'Const_1:0' shape=(53714,) dtype=int64>, 'affiliate_channel': <tensorflow.python.framework.ops.SparseTensor object at 0x12948add0>, 'language': <tensorflow.python.framework.ops.SparseTensor object at 0x124cc0dd0>, 'first_affiliate_tracked': <tensorflow.python.framework.ops.SparseTensor object at 0x1275dbdd0>, 'signup_method': <tensorflow.python.framework.ops.SparseTensor object at 0x1258b4c10>, 'gender': <tensorflow.python.framework.ops.SparseTensor object at 0x12590bcd0>, 'age': <tf.Tensor 'Const:0' shape=(53714,) dtype=int64>, 'acct_create_month_year': <tensorflow.python.framework.ops.SparseTensor object at 0x1210436d0>, 'first_browser': <tensorflow.python.framework.ops.SparseTensor object at 0x124d131d0>, 'affiliate_provider': <tensorflow.python.framework.ops.SparseTensor object at 0x1275fdd10>, 'first_device_type': <tensorflow.python.framework.ops.SparseTensor object at 0x11d671e50>, 'signup_app': <tensorflow.python.framework.ops.SparseTensor object at 0x1298a0fd0>}, required signatures: {'signup_flow': TensorSignature(dtype=tf.int64, shape=TensorShape([Dimension(53714)]), is_sparse=False), 'affiliate_channel': TensorSignature(dtype=tf.string, shape=None, is_sparse=True), 'language': TensorSignature(dtype=tf.string, shape=None, is_sparse=True), 'first_affiliate_tracked': TensorSignature(dtype=tf.string, shape=None, is_sparse=True), 'signup_method': TensorSignature(dtype=tf.string, shape=None, is_sparse=True), 'gender': TensorSignature(dtype=tf.string, shape=None, is_sparse=True), 'age': TensorSignature(dtype=tf.int64, shape=TensorShape([Dimension(53714)]), is_sparse=False), 'acct_create_month_year': TensorSignature(dtype=tf.string, shape=None, is_sparse=True), 'first_browser': TensorSignature(dtype=tf.string, shape=None, is_sparse=True), 'affiliate_provider': TensorSignature(dtype=tf.string, shape=None, is_sparse=True), 'first_device_type': TensorSignature(dtype=tf.string, shape=None, is_sparse=True), 'signup_app': TensorSignature(dtype=tf.string, shape=None, is_sparse=True)}.\n",
      "WARNING:tensorflow:Given targets: Tensor(\"Const_2:0\", shape=(53714,), dtype=int64), required signatures: TensorSignature(dtype=tf.int64, shape=TensorShape([Dimension(53714)]), is_sparse=False).\n",
      "WARNING:tensorflow:tf.variable_op_scope(values, name, default_name) is deprecated, use tf.variable_scope(name, default_name, values)\n"
     ]
    },
    {
     "name": "stdout",
     "output_type": "stream",
     "text": [
      "accuracy: 0.60528\n",
      "global_step: 200\n",
      "loss: 1.10623\n"
     ]
    }
   ],
   "source": [
    "#Continuous variables are converted into a Tensor while Categorical variables are converted into a SparseTensor\n",
    "CATEGORICAL_COLUMNS = [\"gender\", \"signup_method\", \"language\", \"affiliate_channel\", \"affiliate_provider\", \"first_affiliate_tracked\",\n",
    "                        \"signup_app\", \"first_device_type\", \"first_browser\", \"acct_create_month_year\"]\n",
    "\n",
    "CONTINUOUS_COLUMNS = [\"age\", \"signup_flow\"]\n",
    "\n",
    "LABEL_COLUMN = \"label\" \n",
    "\n",
    "def input_fn(df):\n",
    "    # Creates a dictionary mapping from each continuous feature column name (k) to\n",
    "    # the values of that column stored in a constant Tensor.\n",
    "    continuous_cols = {k: tf.constant(df[k].values.astype(int)) for k in CONTINUOUS_COLUMNS}\n",
    "    # Creates a dictionary mapping from each categorical feature column name (k)\n",
    "    # to the values of that column stored in a tf.SparseTensor.\n",
    "    categorical_cols = {k: tf.SparseTensor(indices=[[i, 0] for i in range(df[k].size)],\n",
    "                                           values=df[k].values,\n",
    "                                           shape=[df[k].size, 1])\n",
    "                        for k in CATEGORICAL_COLUMNS}\n",
    "    # Merges the two dictionaries into one.\n",
    "    feature_cols = dict(continuous_cols.items() + categorical_cols.items())\n",
    "    # Converts the label column into a constant Tensor.\n",
    "    label = tf.constant(df[LABEL_COLUMN].values)\n",
    "    # Returns the feature columns and the label.\n",
    "    return feature_cols, label\n",
    "\n",
    "def train_input_fn():\n",
    "    return input_fn(train_data)\n",
    "\n",
    "def eval_input_fn():\n",
    "    return input_fn(dev_data)\n",
    "\n",
    "def test_input_fn():\n",
    "    return input_fn(test_data)\n",
    "\n",
    "# Defining FeatureColumns and Creating the Regressor (no data here, just the structure)\n",
    "gender = tf.contrib.layers.sparse_column_with_hash_bucket(\"gender\", hash_bucket_size=4)\n",
    "signup_method = tf.contrib.layers.sparse_column_with_hash_bucket(\"signup_method\", hash_bucket_size=3)\n",
    "language = tf.contrib.layers.sparse_column_with_hash_bucket(\"language\", hash_bucket_size=25)\n",
    "affiliate_channel = tf.contrib.layers.sparse_column_with_hash_bucket(\"affiliate_channel\", hash_bucket_size=8)\n",
    "affiliate_provider = tf.contrib.layers.sparse_column_with_hash_bucket(\"affiliate_provider\", hash_bucket_size=18)\n",
    "first_affiliate_tracked = tf.contrib.layers.sparse_column_with_hash_bucket(\"first_affiliate_tracked\", hash_bucket_size=8)\n",
    "signup_app = tf.contrib.layers.sparse_column_with_hash_bucket(\"signup_app\", hash_bucket_size=4)\n",
    "first_device_type = tf.contrib.layers.sparse_column_with_hash_bucket(\"first_device_type\", hash_bucket_size=9)\n",
    "first_browser = tf.contrib.layers.sparse_column_with_hash_bucket(\"first_browser\", hash_bucket_size=49)\n",
    "acct_create_month_year = tf.contrib.layers.sparse_column_with_hash_bucket(\"acct_create_month_year\", hash_bucket_size=54)\n",
    "\n",
    "age = tf.contrib.layers.real_valued_column(\"age\")\n",
    "signup_flow = tf.contrib.layers.real_valued_column(\"signup_flow\")\n",
    "\n",
    "#Building the model\n",
    "model_dir = tempfile.mkdtemp()\n",
    "m = tf.contrib.learn.LinearClassifier(feature_columns=[gender, signup_method, language, \n",
    "                                                        affiliate_channel, affiliate_provider, \n",
    "                                                        first_affiliate_tracked, signup_app, first_device_type, \n",
    "                                                        first_browser, acct_create_month_year, age, signup_flow],\n",
    "                                      n_classes= 13, \n",
    "                                      model_dir=model_dir)\n",
    "\n",
    "#Fit - calling now for the data\n",
    "m.fit(input_fn = eval_input_fn, steps = 200)\n",
    "\n",
    "results = m.evaluate(input_fn = eval_input_fn, steps=1)\n",
    "for key in sorted(results):\n",
    "     print \"%s: %s\" % (key, results[key])"
   ]
  },
  {
   "cell_type": "code",
   "execution_count": 25,
   "metadata": {
    "collapsed": false
   },
   "outputs": [],
   "source": [
    "y = m.predict_proba(input_fn = test_input_fn)\n",
    "\n",
    "user_ids = []  #list of ids\n",
    "countries = []  #list of countries\n",
    "for i in range(len(test_id)):\n",
    "    idx = test_id[i]\n",
    "    user_ids += [idx] * 5\n",
    "    countries += le.inverse_transform(np.argsort(y[i])[::-1])[:5].tolist()\n",
    "sub = pd.DataFrame(np.column_stack((user_ids, countries)), columns=['id', 'country'])\n",
    "sub.to_csv('sub_LinearClassifier.csv',index=False)"
   ]
  },
  {
   "cell_type": "markdown",
   "metadata": {},
   "source": [
    "## DNN model using Tensorflow"
   ]
  },
  {
   "cell_type": "code",
   "execution_count": null,
   "metadata": {
    "collapsed": false
   },
   "outputs": [
    {
     "name": "stderr",
     "output_type": "stream",
     "text": [
      "WARNING:tensorflow:The default value of combiner will change from \"mean\" to \"sqrtn\" after 2016/11/01.\n",
      "WARNING:tensorflow:The default value of combiner will change from \"mean\" to \"sqrtn\" after 2016/11/01.\n",
      "WARNING:tensorflow:The default value of combiner will change from \"mean\" to \"sqrtn\" after 2016/11/01.\n",
      "WARNING:tensorflow:The default value of combiner will change from \"mean\" to \"sqrtn\" after 2016/11/01.\n",
      "WARNING:tensorflow:The default value of combiner will change from \"mean\" to \"sqrtn\" after 2016/11/01.\n",
      "WARNING:tensorflow:The default value of combiner will change from \"mean\" to \"sqrtn\" after 2016/11/01.\n",
      "WARNING:tensorflow:The default value of combiner will change from \"mean\" to \"sqrtn\" after 2016/11/01.\n",
      "WARNING:tensorflow:The default value of combiner will change from \"mean\" to \"sqrtn\" after 2016/11/01.\n",
      "WARNING:tensorflow:The default value of combiner will change from \"mean\" to \"sqrtn\" after 2016/11/01.\n",
      "WARNING:tensorflow:The default value of combiner will change from \"mean\" to \"sqrtn\" after 2016/11/01.\n",
      "WARNING:tensorflow:Change warning: default value of `enable_centered_bias` will change after 2016-10-09. It will be disabled by default.Instructions for keeping existing behaviour:\n",
      "Explicitly set `enable_centered_bias` to 'True' if you want to keep existing behaviour.\n",
      "WARNING:tensorflow:Using default config.\n"
     ]
    }
   ],
   "source": [
    "# DNN model\n",
    "deep_columns = [\n",
    "tf.contrib.layers.embedding_column(gender, dimension=4),\n",
    "tf.contrib.layers.embedding_column(signup_method, dimension=3),\n",
    "tf.contrib.layers.embedding_column(language, dimension=25), #25\n",
    "tf.contrib.layers.embedding_column(affiliate_channel, dimension=8),\n",
    "tf.contrib.layers.embedding_column(affiliate_provider, dimension=18), #18\n",
    "tf.contrib.layers.embedding_column(first_affiliate_tracked, dimension=8),\n",
    "tf.contrib.layers.embedding_column(signup_app, dimension=4),\n",
    "tf.contrib.layers.embedding_column(first_device_type, dimension=9), #9\n",
    "tf.contrib.layers.embedding_column(first_browser, dimension=49), #49\n",
    "tf.contrib.layers.embedding_column(acct_create_month_year, dimension=54), #54\n",
    "age,\n",
    "signup_flow\n",
    "]\n",
    "#age_emb = tf.contrib.layers.embedding_column(age, dimension=4)\n",
    "#signup_flow_emb = tf.contrib.layers.embedding_column(signup_flow, dimension=4)\n",
    "\n",
    "#age,\n",
    "#signup_flow\n",
    "model_dir = tempfile.mkdtemp()\n",
    "dnn = tf.contrib.learn.DNNLinearCombinedClassifier(\n",
    "    model_dir = model_dir,\n",
    "    dnn_feature_columns=deep_columns,\n",
    "    dnn_hidden_units=[20, 40, 20],\n",
    "    n_classes= 13)\n",
    "\n",
    "dnn.fit(input_fn = train_input_fn, steps = 1000)\n",
    "\n",
    "# results = dnn.evaluate(input_fn = train_input_fn, steps=1)\n",
    "# for key in sorted(results):\n",
    "#      print \"%s: %s\" % (key, results[key])\n",
    "\n",
    "results = dnn.evaluate(input_fn = eval_input_fn, steps=1)\n",
    "for key in sorted(results):\n",
    "     print \"%s: %s\" % (key, results[key])"
   ]
  },
  {
   "cell_type": "code",
   "execution_count": 28,
   "metadata": {
    "collapsed": false
   },
   "outputs": [
    {
     "name": "stderr",
     "output_type": "stream",
     "text": [
      "WARNING:tensorflow:Calling predict_proba (from tensorflow.contrib.learn.python.learn.estimators.dnn_linear_combined) with as_iterable=False is deprecated and will be removed after 2016-09-15.\n",
      "Instructions for updating:\n",
      "The default behavior of predict() is changing. The default value for\n",
      "as_iterable will change to True, and then the flag will be removed\n",
      "altogether. The behavior of this flag is described below.\n",
      "WARNING:tensorflow:Calling predict (from tensorflow.contrib.learn.python.learn.estimators.estimator) with as_iterable=False is deprecated and will be removed after 2016-09-15.\n",
      "Instructions for updating:\n",
      "The default behavior of predict() is changing. The default value for\n",
      "as_iterable will change to True, and then the flag will be removed\n",
      "altogether. The behavior of this flag is described below.\n"
     ]
    },
    {
     "name": "stdout",
     "output_type": "stream",
     "text": [
      "(62096, 13)\n"
     ]
    }
   ],
   "source": [
    "ydnn = dnn.predict_proba(input_fn = test_input_fn)\n",
    "\n",
    "user_ids = []  #list of ids\n",
    "countries = []  #list of countries\n",
    "for i in range(len(test_id)):\n",
    "    idx = test_id[i]\n",
    "    user_ids += [idx] * 5\n",
    "    countries += le.inverse_transform(np.argsort(ydnn[i])[::-1])[:5].tolist()\n",
    "sub = pd.DataFrame(np.column_stack((user_ids, countries)), columns=['id', 'country'])\n",
    "sub.to_csv('sub_DNNLinearCombinedClassifier.csv',index=False)"
   ]
  }
 ],
 "metadata": {
  "anaconda-cloud": {},
  "kernelspec": {
   "display_name": "Python [conda env:tensorflow]",
   "language": "python",
   "name": "conda-env-tensorflow-py"
  },
  "language_info": {
   "codemirror_mode": {
    "name": "ipython",
    "version": 2
   },
   "file_extension": ".py",
   "mimetype": "text/x-python",
   "name": "python",
   "nbconvert_exporter": "python",
   "pygments_lexer": "ipython2",
   "version": "2.7.12"
  }
 },
 "nbformat": 4,
 "nbformat_minor": 0
}
