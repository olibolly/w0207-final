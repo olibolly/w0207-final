{
 "cells": [
  {
   "cell_type": "code",
   "execution_count": 2,
   "metadata": {
    "collapsed": false
   },
   "outputs": [],
   "source": [
    "%matplotlib inline\n",
    "\n",
    "import numpy as np\n",
    "import csv\n",
    "import pandas as pd\n",
    "import tempfile\n",
    "import math\n",
    "import matplotlib.pyplot as plt\n",
    "\n",
    "from sklearn.neighbors import KNeighborsClassifier\n",
    "from sklearn.linear_model import LogisticRegression\n",
    "from sklearn.naive_bayes import MultinomialNB\n",
    "from sklearn.grid_search import GridSearchCV\n",
    "from sklearn import metrics\n",
    "from sklearn import preprocessing\n",
    "import tensorflow as tf\n",
    "import tensorflow.contrib.learn.python.learn as learn\n",
    "from sklearn import datasets, metrics, preprocessing\n",
    "from sklearn.preprocessing import LabelEncoder\n",
    "\n",
    "import warnings\n",
    "warnings.filterwarnings(\"ignore\")"
   ]
  },
  {
   "cell_type": "code",
   "execution_count": 3,
   "metadata": {
    "collapsed": false
   },
   "outputs": [],
   "source": [
    "train_users = pd.read_csv(\"/Users/ozimmer/Google Drive/berkeley/w207/final project/Group_Project/train_users_2.csv\")\n",
    "test_users = pd.read_csv(\"/Users/ozimmer/Google Drive/berkeley/w207/final project/Group_Project/test_users.csv\")\n",
    "test_id = test_users['id']"
   ]
  },
  {
   "cell_type": "markdown",
   "metadata": {},
   "source": [
    "## Feature engineering"
   ]
  },
  {
   "cell_type": "code",
   "execution_count": 4,
   "metadata": {
    "collapsed": false
   },
   "outputs": [],
   "source": [
    "df_train = train_users\n",
    "df_test = test_users\n",
    "\n",
    "# concatenate the train and test user files\n",
    "df_all = pd.concat((df_train, df_test), axis=0, ignore_index=True)\n",
    "\n",
    "# split date fields into 3 columns (year, month, day) to avoid having a feature for every possible date\n",
    "dac = np.vstack(df_all.date_account_created.astype(str).apply(lambda x: list(map(int, x.split('-')))).values)\n",
    "df_all['acct_create_year'] = dac[:,0]\n",
    "df_all['acct_create_month'] = dac[:,1]\n",
    "df_all['acct_create_day'] = dac[:,2]\n",
    "\n",
    "# concat account create month/year\n",
    "df_all['acct_create_month_year'] = df_all.acct_create_month.astype(str) +'/'+ df_all.acct_create_year.astype(str)\n",
    "\n",
    "# drop columns unecessary for prediction\n",
    "df_all = df_all.drop(['id', 'date_first_booking','date_account_created','timestamp_first_active','acct_create_day','acct_create_month','acct_create_year'], axis=1)\n",
    "\n",
    "#set unknown gender values to NA\n",
    "df_all.gender = df_all.gender.replace('-unknown-',np.nan)\n",
    "\n",
    "#fill NA values with -1\n",
    "df_all = df_all.fillna(\"NaN\")\n",
    "\n",
    "# The age field is populated with some outlying values and some year values (e.g., 2014)\n",
    "# This will pull only ages between 14 and 100\n",
    "av = df_all.age.values\n",
    "df_all['age'] = np.where(np.logical_or(av<14, av>100), 0, av)\n",
    "\n",
    "#################################################### \n",
    "##### @CHRIS, this is the feature that I removed\n",
    "####################################################\n",
    "# encode categorical features with dummy values\n",
    "# categorical = ['acct_create_month_year', 'age', 'gender', 'signup_method', 'signup_flow', 'language', 'affiliate_channel', 'affiliate_provider', 'first_affiliate_tracked', 'signup_app', 'first_device_type', 'first_browser']\n",
    "# for f in categorical:\n",
    "#     df_all_dummy = pd.get_dummies(df_all[f], prefix=f)\n",
    "#     df_all = df_all.drop([f], axis=1)\n",
    "#     df_all = pd.concat((df_all, df_all_dummy), axis=1)\n",
    "\n",
    "#Encode label in integer for TensorFlow\n",
    "le = preprocessing.LabelEncoder()\n",
    "le.fit(df_all[\"country_destination\"])\n",
    "df_all[\"label\"] = le.transform(df_all[\"country_destination\"])"
   ]
  },
  {
   "cell_type": "code",
   "execution_count": 5,
   "metadata": {
    "collapsed": false
   },
   "outputs": [],
   "source": [
    "# After cleansing, split the data back up between the train and test users\n",
    "length_training_set = train_users.shape[0]\n",
    "train_values = df_all[:length_training_set] \n",
    "test_data = df_all[length_training_set:]\n",
    "\n",
    "# Split training values between train & dev sets \n",
    "np.random.seed(0)\n",
    "msk = np.random.rand(len(train_values)) < 0.75\n",
    "train_data = train_values[msk]\n",
    "dev_data = train_values[~msk]"
   ]
  },
  {
   "cell_type": "markdown",
   "metadata": {
    "collapsed": true
   },
   "source": [
    "## Linear classifier using TensorFlow"
   ]
  },
  {
   "cell_type": "code",
   "execution_count": 6,
   "metadata": {
    "collapsed": false
   },
   "outputs": [
    {
     "name": "stderr",
     "output_type": "stream",
     "text": [
      "WARNING:tensorflow:The default value of combiner will change from \"sum\" to \"sqrtn\" after 2016/11/01.\n",
      "WARNING:tensorflow:The default value of combiner will change from \"sum\" to \"sqrtn\" after 2016/11/01.\n",
      "WARNING:tensorflow:The default value of combiner will change from \"sum\" to \"sqrtn\" after 2016/11/01.\n",
      "WARNING:tensorflow:The default value of combiner will change from \"sum\" to \"sqrtn\" after 2016/11/01.\n",
      "WARNING:tensorflow:The default value of combiner will change from \"sum\" to \"sqrtn\" after 2016/11/01.\n",
      "WARNING:tensorflow:The default value of combiner will change from \"sum\" to \"sqrtn\" after 2016/11/01.\n",
      "WARNING:tensorflow:The default value of combiner will change from \"sum\" to \"sqrtn\" after 2016/11/01.\n",
      "WARNING:tensorflow:The default value of combiner will change from \"sum\" to \"sqrtn\" after 2016/11/01.\n",
      "WARNING:tensorflow:The default value of combiner will change from \"sum\" to \"sqrtn\" after 2016/11/01.\n",
      "WARNING:tensorflow:The default value of combiner will change from \"sum\" to \"sqrtn\" after 2016/11/01.\n",
      "WARNING:tensorflow:Change warning: default value of `enable_centered_bias` will change after 2016-10-09. It will be disabled by default.Instructions for keeping existing behaviour:\n",
      "Explicitly set `enable_centered_bias` to 'True' if you want to keep existing behaviour.\n",
      "WARNING:tensorflow:Using default config.\n",
      "WARNING:tensorflow:tf.variable_op_scope(values, name, default_name) is deprecated, use tf.variable_scope(name, default_name, values)\n",
      "WARNING:tensorflow:Given features: {'signup_flow': <tf.Tensor 'Const_1:0' shape=(53714,) dtype=int64>, 'affiliate_channel': <tensorflow.python.framework.ops.SparseTensor object at 0x125fef9d0>, 'language': <tensorflow.python.framework.ops.SparseTensor object at 0x11e689110>, 'first_affiliate_tracked': <tensorflow.python.framework.ops.SparseTensor object at 0x1043bf690>, 'signup_method': <tensorflow.python.framework.ops.SparseTensor object at 0x125c3ced0>, 'gender': <tensorflow.python.framework.ops.SparseTensor object at 0x125f99d90>, 'age': <tf.Tensor 'Const:0' shape=(53714,) dtype=int64>, 'acct_create_month_year': <tensorflow.python.framework.ops.SparseTensor object at 0x127938310>, 'first_browser': <tensorflow.python.framework.ops.SparseTensor object at 0x10a81dcd0>, 'affiliate_provider': <tensorflow.python.framework.ops.SparseTensor object at 0x125befa10>, 'first_device_type': <tensorflow.python.framework.ops.SparseTensor object at 0x126985390>, 'signup_app': <tensorflow.python.framework.ops.SparseTensor object at 0x11e66ec90>}, required signatures: {'signup_flow': TensorSignature(dtype=tf.int64, shape=TensorShape([Dimension(53714)]), is_sparse=False), 'affiliate_channel': TensorSignature(dtype=tf.string, shape=None, is_sparse=True), 'language': TensorSignature(dtype=tf.string, shape=None, is_sparse=True), 'first_affiliate_tracked': TensorSignature(dtype=tf.string, shape=None, is_sparse=True), 'signup_method': TensorSignature(dtype=tf.string, shape=None, is_sparse=True), 'gender': TensorSignature(dtype=tf.string, shape=None, is_sparse=True), 'age': TensorSignature(dtype=tf.int64, shape=TensorShape([Dimension(53714)]), is_sparse=False), 'acct_create_month_year': TensorSignature(dtype=tf.string, shape=None, is_sparse=True), 'first_browser': TensorSignature(dtype=tf.string, shape=None, is_sparse=True), 'affiliate_provider': TensorSignature(dtype=tf.string, shape=None, is_sparse=True), 'first_device_type': TensorSignature(dtype=tf.string, shape=None, is_sparse=True), 'signup_app': TensorSignature(dtype=tf.string, shape=None, is_sparse=True)}.\n",
      "WARNING:tensorflow:Given targets: Tensor(\"Const_2:0\", shape=(53714,), dtype=int64), required signatures: TensorSignature(dtype=tf.int64, shape=TensorShape([Dimension(53714)]), is_sparse=False).\n",
      "WARNING:tensorflow:tf.variable_op_scope(values, name, default_name) is deprecated, use tf.variable_scope(name, default_name, values)\n",
      "WARNING:tensorflow:Calling predict (from tensorflow.contrib.learn.python.learn.estimators.estimator) with as_iterable=False is deprecated and will be removed after 2016-09-15.\n",
      "Instructions for updating:\n",
      "The default behavior of predict() is changing. The default value for\n",
      "as_iterable will change to True, and then the flag will be removed\n",
      "altogether. The behavior of this flag is described below.\n"
     ]
    },
    {
     "name": "stdout",
     "output_type": "stream",
     "text": [
      "accuracy: 0.605243\n",
      "global_step: 200\n",
      "loss: 1.10623\n"
     ]
    },
    {
     "name": "stderr",
     "output_type": "stream",
     "text": [
      "WARNING:tensorflow:tf.variable_op_scope(values, name, default_name) is deprecated, use tf.variable_scope(name, default_name, values)\n"
     ]
    }
   ],
   "source": [
    "#Continuous variables are converted into a Tensor while Categorical variables are converted into a SparseTensor\n",
    "CATEGORICAL_COLUMNS = [\"gender\", \"signup_method\", \"language\", \"affiliate_channel\", \"affiliate_provider\", \"first_affiliate_tracked\",\n",
    "                        \"signup_app\", \"first_device_type\", \"first_browser\", \"acct_create_month_year\"]\n",
    "\n",
    "CONTINUOUS_COLUMNS = [\"age\", \"signup_flow\"]\n",
    "\n",
    "LABEL_COLUMN = \"label\" \n",
    "\n",
    "def input_fn(df):\n",
    "    # Creates a dictionary mapping from each continuous feature column name (k) to\n",
    "    # the values of that column stored in a constant Tensor.\n",
    "    continuous_cols = {k: tf.constant(df[k].values.astype(int)) for k in CONTINUOUS_COLUMNS}\n",
    "    # Creates a dictionary mapping from each categorical feature column name (k)\n",
    "    # to the values of that column stored in a tf.SparseTensor.\n",
    "    categorical_cols = {k: tf.SparseTensor(indices=[[i, 0] for i in range(df[k].size)],\n",
    "                                           values=df[k].values,\n",
    "                                           shape=[df[k].size, 1])\n",
    "                        for k in CATEGORICAL_COLUMNS}\n",
    "    # Merges the two dictionaries into one.\n",
    "    feature_cols = dict(continuous_cols.items() + categorical_cols.items())\n",
    "    # Converts the label column into a constant Tensor.\n",
    "    label = tf.constant(df[LABEL_COLUMN].values)\n",
    "    # Returns the feature columns and the label.\n",
    "    return feature_cols, label\n",
    "\n",
    "def train_input_fn():\n",
    "    return input_fn(train_data)\n",
    "\n",
    "def eval_input_fn():\n",
    "    return input_fn(dev_data)\n",
    "\n",
    "def test_input_fn():\n",
    "    return input_fn(test_data)\n",
    "\n",
    "# Defining FeatureColumns and Creating the Regressor (no data here, just the structure)\n",
    "gender = tf.contrib.layers.sparse_column_with_hash_bucket(\"gender\", hash_bucket_size=4)\n",
    "signup_method = tf.contrib.layers.sparse_column_with_hash_bucket(\"signup_method\", hash_bucket_size=3)\n",
    "language = tf.contrib.layers.sparse_column_with_hash_bucket(\"language\", hash_bucket_size=25)\n",
    "affiliate_channel = tf.contrib.layers.sparse_column_with_hash_bucket(\"affiliate_channel\", hash_bucket_size=8)\n",
    "affiliate_provider = tf.contrib.layers.sparse_column_with_hash_bucket(\"affiliate_provider\", hash_bucket_size=18)\n",
    "first_affiliate_tracked = tf.contrib.layers.sparse_column_with_hash_bucket(\"first_affiliate_tracked\", hash_bucket_size=8)\n",
    "signup_app = tf.contrib.layers.sparse_column_with_hash_bucket(\"signup_app\", hash_bucket_size=4)\n",
    "first_device_type = tf.contrib.layers.sparse_column_with_hash_bucket(\"first_device_type\", hash_bucket_size=9)\n",
    "first_browser = tf.contrib.layers.sparse_column_with_hash_bucket(\"first_browser\", hash_bucket_size=49)\n",
    "acct_create_month_year = tf.contrib.layers.sparse_column_with_hash_bucket(\"acct_create_month_year\", hash_bucket_size=54)\n",
    "\n",
    "age = tf.contrib.layers.real_valued_column(\"age\")\n",
    "signup_flow = tf.contrib.layers.real_valued_column(\"signup_flow\")\n",
    "\n",
    "#Building the model\n",
    "model_dir = tempfile.mkdtemp()\n",
    "m = tf.contrib.learn.LinearClassifier(feature_columns=[gender, signup_method, language, \n",
    "                                                        affiliate_channel, affiliate_provider, \n",
    "                                                        first_affiliate_tracked, signup_app, first_device_type, \n",
    "                                                        first_browser, acct_create_month_year, age, signup_flow],\n",
    "                                      n_classes= 13, \n",
    "                                      model_dir=model_dir)\n",
    "\n",
    "#Fit - calling now for the data\n",
    "m.fit(input_fn = eval_input_fn, steps = 200)\n",
    "\n",
    "results = m.evaluate(input_fn = eval_input_fn, steps=1)\n",
    "for key in sorted(results):\n",
    "     print \"%s: %s\" % (key, results[key])\n",
    "\n",
    "y = m.predict_proba(input_fn = test_input_fn)\n",
    "\n",
    "user_ids = []  #list of ids\n",
    "countries = []  #list of countries\n",
    "for i in range(len(test_id)):\n",
    "    idx = test_id[i]\n",
    "    user_ids += [idx] * 5\n",
    "    countries += le.inverse_transform(np.argsort(y[i])[::-1])[:5].tolist()\n",
    "sub = pd.DataFrame(np.column_stack((user_ids, countries)), columns=['id', 'country'])\n",
    "sub.to_csv('sub_LinearClassifier.csv',index=False)"
   ]
  },
  {
   "cell_type": "markdown",
   "metadata": {},
   "source": [
    "## DNN model using Tensorflow"
   ]
  },
  {
   "cell_type": "code",
   "execution_count": 7,
   "metadata": {
    "collapsed": false
   },
   "outputs": [
    {
     "name": "stderr",
     "output_type": "stream",
     "text": [
      "WARNING:tensorflow:The default value of combiner will change from \"mean\" to \"sqrtn\" after 2016/11/01.\n",
      "WARNING:tensorflow:The default value of combiner will change from \"mean\" to \"sqrtn\" after 2016/11/01.\n",
      "WARNING:tensorflow:The default value of combiner will change from \"mean\" to \"sqrtn\" after 2016/11/01.\n",
      "WARNING:tensorflow:The default value of combiner will change from \"mean\" to \"sqrtn\" after 2016/11/01.\n",
      "WARNING:tensorflow:The default value of combiner will change from \"mean\" to \"sqrtn\" after 2016/11/01.\n",
      "WARNING:tensorflow:The default value of combiner will change from \"mean\" to \"sqrtn\" after 2016/11/01.\n",
      "WARNING:tensorflow:The default value of combiner will change from \"mean\" to \"sqrtn\" after 2016/11/01.\n",
      "WARNING:tensorflow:The default value of combiner will change from \"mean\" to \"sqrtn\" after 2016/11/01.\n",
      "WARNING:tensorflow:The default value of combiner will change from \"mean\" to \"sqrtn\" after 2016/11/01.\n",
      "WARNING:tensorflow:The default value of combiner will change from \"mean\" to \"sqrtn\" after 2016/11/01.\n",
      "WARNING:tensorflow:Change warning: default value of `enable_centered_bias` will change after 2016-10-09. It will be disabled by default.Instructions for keeping existing behaviour:\n",
      "Explicitly set `enable_centered_bias` to 'True' if you want to keep existing behaviour.\n",
      "WARNING:tensorflow:Using default config.\n",
      "WARNING:tensorflow:Given features: {'signup_flow': <tf.Tensor 'Const_1:0' shape=(53714,) dtype=int64>, 'affiliate_channel': <tensorflow.python.framework.ops.SparseTensor object at 0x12d249ad0>, 'language': <tensorflow.python.framework.ops.SparseTensor object at 0x127044550>, 'first_affiliate_tracked': <tensorflow.python.framework.ops.SparseTensor object at 0x134112c10>, 'signup_method': <tensorflow.python.framework.ops.SparseTensor object at 0x12612bf90>, 'gender': <tensorflow.python.framework.ops.SparseTensor object at 0x127497510>, 'age': <tf.Tensor 'Const:0' shape=(53714,) dtype=int64>, 'acct_create_month_year': <tensorflow.python.framework.ops.SparseTensor object at 0x126d34650>, 'first_browser': <tensorflow.python.framework.ops.SparseTensor object at 0x12739cfd0>, 'affiliate_provider': <tensorflow.python.framework.ops.SparseTensor object at 0x1271d44d0>, 'first_device_type': <tensorflow.python.framework.ops.SparseTensor object at 0x134338ad0>, 'signup_app': <tensorflow.python.framework.ops.SparseTensor object at 0x1273aa090>}, required signatures: {'signup_flow': TensorSignature(dtype=tf.int64, shape=TensorShape([Dimension(159737)]), is_sparse=False), 'affiliate_channel': TensorSignature(dtype=tf.string, shape=None, is_sparse=True), 'language': TensorSignature(dtype=tf.string, shape=None, is_sparse=True), 'first_affiliate_tracked': TensorSignature(dtype=tf.string, shape=None, is_sparse=True), 'signup_method': TensorSignature(dtype=tf.string, shape=None, is_sparse=True), 'gender': TensorSignature(dtype=tf.string, shape=None, is_sparse=True), 'age': TensorSignature(dtype=tf.int64, shape=TensorShape([Dimension(159737)]), is_sparse=False), 'acct_create_month_year': TensorSignature(dtype=tf.string, shape=None, is_sparse=True), 'first_browser': TensorSignature(dtype=tf.string, shape=None, is_sparse=True), 'affiliate_provider': TensorSignature(dtype=tf.string, shape=None, is_sparse=True), 'first_device_type': TensorSignature(dtype=tf.string, shape=None, is_sparse=True), 'signup_app': TensorSignature(dtype=tf.string, shape=None, is_sparse=True)}.\n",
      "WARNING:tensorflow:Given targets: Tensor(\"Const_2:0\", shape=(53714,), dtype=int64), required signatures: TensorSignature(dtype=tf.int64, shape=TensorShape([Dimension(159737)]), is_sparse=False).\n",
      "WARNING:tensorflow:Calling predict_proba (from tensorflow.contrib.learn.python.learn.estimators.dnn_linear_combined) with as_iterable=False is deprecated and will be removed after 2016-09-15.\n",
      "Instructions for updating:\n",
      "The default behavior of predict() is changing. The default value for\n",
      "as_iterable will change to True, and then the flag will be removed\n",
      "altogether. The behavior of this flag is described below.\n",
      "WARNING:tensorflow:Calling predict (from tensorflow.contrib.learn.python.learn.estimators.estimator) with as_iterable=False is deprecated and will be removed after 2016-09-15.\n",
      "Instructions for updating:\n",
      "The default behavior of predict() is changing. The default value for\n",
      "as_iterable will change to True, and then the flag will be removed\n",
      "altogether. The behavior of this flag is described below.\n"
     ]
    },
    {
     "name": "stdout",
     "output_type": "stream",
     "text": [
      "accuracy: 0.629166\n",
      "global_step: 2000\n",
      "loss: 1.08022\n"
     ]
    }
   ],
   "source": [
    "deep_columns = [\n",
    "tf.contrib.layers.embedding_column(gender, dimension=4),\n",
    "tf.contrib.layers.embedding_column(signup_method, dimension=3),\n",
    "tf.contrib.layers.embedding_column(language, dimension=20), #25\n",
    "tf.contrib.layers.embedding_column(affiliate_channel, dimension=8),\n",
    "tf.contrib.layers.embedding_column(affiliate_provider, dimension=8), #18\n",
    "tf.contrib.layers.embedding_column(first_affiliate_tracked, dimension=8),\n",
    "tf.contrib.layers.embedding_column(signup_app, dimension=4),\n",
    "tf.contrib.layers.embedding_column(first_device_type, dimension=8), #9\n",
    "tf.contrib.layers.embedding_column(first_browser, dimension=20), #49\n",
    "tf.contrib.layers.embedding_column(acct_create_month_year, dimension=20), #54\n",
    "age,\n",
    "signup_flow\n",
    "]\n",
    "\n",
    "model_dir = tempfile.mkdtemp()\n",
    "dnn = tf.contrib.learn.DNNLinearCombinedClassifier(\n",
    "    model_dir = model_dir,\n",
    "    dnn_feature_columns=deep_columns,\n",
    "    dnn_hidden_units=[10, 20, 10],\n",
    "    n_classes= 13)\n",
    "\n",
    "dnn.fit(input_fn = train_input_fn, steps = 2000)\n",
    "\n",
    "# results = dnn.evaluate(input_fn = train_input_fn, steps=1)\n",
    "# for key in sorted(results):\n",
    "#      print \"%s: %s\" % (key, results[key])\n",
    "\n",
    "results = dnn.evaluate(input_fn = eval_input_fn, steps=1)\n",
    "for key in sorted(results):\n",
    "     print \"%s: %s\" % (key, results[key])\n",
    "        \n",
    "ydnn = dnn.predict_proba(input_fn = test_input_fn)\n",
    "\n",
    "user_ids = []  #list of ids\n",
    "countries = []  #list of countries\n",
    "for i in range(len(test_id)):\n",
    "    idx = test_id[i]\n",
    "    user_ids += [idx] * 5\n",
    "    countries += le.inverse_transform(np.argsort(ydnn[i])[::-1])[:5].tolist()\n",
    "sub = pd.DataFrame(np.column_stack((user_ids, countries)), columns=['id', 'country'])\n",
    "sub.to_csv('sub_DNNLinearCombinedClassifier.csv',index=False)"
   ]
  },
  {
   "cell_type": "markdown",
   "metadata": {},
   "source": [
    "## Looping through parameters\n",
    "### Number of hidden units"
   ]
  },
  {
   "cell_type": "code",
   "execution_count": 22,
   "metadata": {
    "collapsed": false
   },
   "outputs": [
    {
     "name": "stderr",
     "output_type": "stream",
     "text": [
      "WARNING:tensorflow:Change warning: default value of `enable_centered_bias` will change after 2016-10-09. It will be disabled by default.Instructions for keeping existing behaviour:\n",
      "Explicitly set `enable_centered_bias` to 'True' if you want to keep existing behaviour.\n",
      "WARNING:tensorflow:Using default config.\n",
      "WARNING:tensorflow:Given features: {'signup_flow': <tf.Tensor 'Const_1:0' shape=(159737,) dtype=int64>, 'affiliate_channel': <tensorflow.python.framework.ops.SparseTensor object at 0x151170490>, 'language': <tensorflow.python.framework.ops.SparseTensor object at 0x131cc0fd0>, 'first_affiliate_tracked': <tensorflow.python.framework.ops.SparseTensor object at 0x14b36b250>, 'signup_method': <tensorflow.python.framework.ops.SparseTensor object at 0x11ec94fd0>, 'gender': <tensorflow.python.framework.ops.SparseTensor object at 0x14ef965d0>, 'age': <tf.Tensor 'Const:0' shape=(159737,) dtype=int64>, 'acct_create_month_year': <tensorflow.python.framework.ops.SparseTensor object at 0x131cec310>, 'first_browser': <tensorflow.python.framework.ops.SparseTensor object at 0x1556884d0>, 'affiliate_provider': <tensorflow.python.framework.ops.SparseTensor object at 0x14b351710>, 'first_device_type': <tensorflow.python.framework.ops.SparseTensor object at 0x151f81f50>, 'signup_app': <tensorflow.python.framework.ops.SparseTensor object at 0x125982150>}, required signatures: {'signup_flow': TensorSignature(dtype=tf.int64, shape=TensorShape([Dimension(159737)]), is_sparse=False), 'affiliate_channel': TensorSignature(dtype=tf.string, shape=None, is_sparse=True), 'language': TensorSignature(dtype=tf.string, shape=None, is_sparse=True), 'first_affiliate_tracked': TensorSignature(dtype=tf.string, shape=None, is_sparse=True), 'signup_method': TensorSignature(dtype=tf.string, shape=None, is_sparse=True), 'gender': TensorSignature(dtype=tf.string, shape=None, is_sparse=True), 'age': TensorSignature(dtype=tf.int64, shape=TensorShape([Dimension(159737)]), is_sparse=False), 'acct_create_month_year': TensorSignature(dtype=tf.string, shape=None, is_sparse=True), 'first_browser': TensorSignature(dtype=tf.string, shape=None, is_sparse=True), 'affiliate_provider': TensorSignature(dtype=tf.string, shape=None, is_sparse=True), 'first_device_type': TensorSignature(dtype=tf.string, shape=None, is_sparse=True), 'signup_app': TensorSignature(dtype=tf.string, shape=None, is_sparse=True)}.\n",
      "WARNING:tensorflow:Given targets: Tensor(\"Const_2:0\", shape=(159737,), dtype=int64), required signatures: TensorSignature(dtype=tf.int64, shape=TensorShape([Dimension(159737)]), is_sparse=False).\n",
      "WARNING:tensorflow:Given features: {'signup_flow': <tf.Tensor 'Const_1:0' shape=(53714,) dtype=int64>, 'affiliate_channel': <tensorflow.python.framework.ops.SparseTensor object at 0x11ec94fd0>, 'language': <tensorflow.python.framework.ops.SparseTensor object at 0x13bffdb50>, 'first_affiliate_tracked': <tensorflow.python.framework.ops.SparseTensor object at 0x14f3be890>, 'signup_method': <tensorflow.python.framework.ops.SparseTensor object at 0x13db98650>, 'gender': <tensorflow.python.framework.ops.SparseTensor object at 0x14ef965d0>, 'age': <tf.Tensor 'Const:0' shape=(53714,) dtype=int64>, 'acct_create_month_year': <tensorflow.python.framework.ops.SparseTensor object at 0x13118cd50>, 'first_browser': <tensorflow.python.framework.ops.SparseTensor object at 0x13118c410>, 'affiliate_provider': <tensorflow.python.framework.ops.SparseTensor object at 0x13bbbd990>, 'first_device_type': <tensorflow.python.framework.ops.SparseTensor object at 0x13891e810>, 'signup_app': <tensorflow.python.framework.ops.SparseTensor object at 0x14440c690>}, required signatures: {'signup_flow': TensorSignature(dtype=tf.int64, shape=TensorShape([Dimension(159737)]), is_sparse=False), 'affiliate_channel': TensorSignature(dtype=tf.string, shape=None, is_sparse=True), 'language': TensorSignature(dtype=tf.string, shape=None, is_sparse=True), 'first_affiliate_tracked': TensorSignature(dtype=tf.string, shape=None, is_sparse=True), 'signup_method': TensorSignature(dtype=tf.string, shape=None, is_sparse=True), 'gender': TensorSignature(dtype=tf.string, shape=None, is_sparse=True), 'age': TensorSignature(dtype=tf.int64, shape=TensorShape([Dimension(159737)]), is_sparse=False), 'acct_create_month_year': TensorSignature(dtype=tf.string, shape=None, is_sparse=True), 'first_browser': TensorSignature(dtype=tf.string, shape=None, is_sparse=True), 'affiliate_provider': TensorSignature(dtype=tf.string, shape=None, is_sparse=True), 'first_device_type': TensorSignature(dtype=tf.string, shape=None, is_sparse=True), 'signup_app': TensorSignature(dtype=tf.string, shape=None, is_sparse=True)}.\n",
      "WARNING:tensorflow:Given targets: Tensor(\"Const_2:0\", shape=(53714,), dtype=int64), required signatures: TensorSignature(dtype=tf.int64, shape=TensorShape([Dimension(159737)]), is_sparse=False).\n",
      "WARNING:tensorflow:Change warning: default value of `enable_centered_bias` will change after 2016-10-09. It will be disabled by default.Instructions for keeping existing behaviour:\n",
      "Explicitly set `enable_centered_bias` to 'True' if you want to keep existing behaviour.\n",
      "WARNING:tensorflow:Using default config.\n",
      "WARNING:tensorflow:Given features: {'signup_flow': <tf.Tensor 'Const_1:0' shape=(159737,) dtype=int64>, 'affiliate_channel': <tensorflow.python.framework.ops.SparseTensor object at 0x13fd02990>, 'language': <tensorflow.python.framework.ops.SparseTensor object at 0x130761b10>, 'first_affiliate_tracked': <tensorflow.python.framework.ops.SparseTensor object at 0x13ecac5d0>, 'signup_method': <tensorflow.python.framework.ops.SparseTensor object at 0x14f3e4ad0>, 'gender': <tensorflow.python.framework.ops.SparseTensor object at 0x137dfbc90>, 'age': <tf.Tensor 'Const:0' shape=(159737,) dtype=int64>, 'acct_create_month_year': <tensorflow.python.framework.ops.SparseTensor object at 0x12999ef10>, 'first_browser': <tensorflow.python.framework.ops.SparseTensor object at 0x14fd5bfd0>, 'affiliate_provider': <tensorflow.python.framework.ops.SparseTensor object at 0x15116c9d0>, 'first_device_type': <tensorflow.python.framework.ops.SparseTensor object at 0x13819dfd0>, 'signup_app': <tensorflow.python.framework.ops.SparseTensor object at 0x14fd69fd0>}, required signatures: {'signup_flow': TensorSignature(dtype=tf.int64, shape=TensorShape([Dimension(159737)]), is_sparse=False), 'affiliate_channel': TensorSignature(dtype=tf.string, shape=None, is_sparse=True), 'language': TensorSignature(dtype=tf.string, shape=None, is_sparse=True), 'first_affiliate_tracked': TensorSignature(dtype=tf.string, shape=None, is_sparse=True), 'signup_method': TensorSignature(dtype=tf.string, shape=None, is_sparse=True), 'gender': TensorSignature(dtype=tf.string, shape=None, is_sparse=True), 'age': TensorSignature(dtype=tf.int64, shape=TensorShape([Dimension(159737)]), is_sparse=False), 'acct_create_month_year': TensorSignature(dtype=tf.string, shape=None, is_sparse=True), 'first_browser': TensorSignature(dtype=tf.string, shape=None, is_sparse=True), 'affiliate_provider': TensorSignature(dtype=tf.string, shape=None, is_sparse=True), 'first_device_type': TensorSignature(dtype=tf.string, shape=None, is_sparse=True), 'signup_app': TensorSignature(dtype=tf.string, shape=None, is_sparse=True)}.\n",
      "WARNING:tensorflow:Given targets: Tensor(\"Const_2:0\", shape=(159737,), dtype=int64), required signatures: TensorSignature(dtype=tf.int64, shape=TensorShape([Dimension(159737)]), is_sparse=False).\n",
      "WARNING:tensorflow:Given features: {'signup_flow': <tf.Tensor 'Const_1:0' shape=(53714,) dtype=int64>, 'affiliate_channel': <tensorflow.python.framework.ops.SparseTensor object at 0x125a3a850>, 'language': <tensorflow.python.framework.ops.SparseTensor object at 0x125a3a650>, 'first_affiliate_tracked': <tensorflow.python.framework.ops.SparseTensor object at 0x131961bd0>, 'signup_method': <tensorflow.python.framework.ops.SparseTensor object at 0x125a3ac50>, 'gender': <tensorflow.python.framework.ops.SparseTensor object at 0x137dfbc90>, 'age': <tf.Tensor 'Const:0' shape=(53714,) dtype=int64>, 'acct_create_month_year': <tensorflow.python.framework.ops.SparseTensor object at 0x145309ed0>, 'first_browser': <tensorflow.python.framework.ops.SparseTensor object at 0x125a3a190>, 'affiliate_provider': <tensorflow.python.framework.ops.SparseTensor object at 0x125a3a710>, 'first_device_type': <tensorflow.python.framework.ops.SparseTensor object at 0x13891d0d0>, 'signup_app': <tensorflow.python.framework.ops.SparseTensor object at 0x13de617d0>}, required signatures: {'signup_flow': TensorSignature(dtype=tf.int64, shape=TensorShape([Dimension(159737)]), is_sparse=False), 'affiliate_channel': TensorSignature(dtype=tf.string, shape=None, is_sparse=True), 'language': TensorSignature(dtype=tf.string, shape=None, is_sparse=True), 'first_affiliate_tracked': TensorSignature(dtype=tf.string, shape=None, is_sparse=True), 'signup_method': TensorSignature(dtype=tf.string, shape=None, is_sparse=True), 'gender': TensorSignature(dtype=tf.string, shape=None, is_sparse=True), 'age': TensorSignature(dtype=tf.int64, shape=TensorShape([Dimension(159737)]), is_sparse=False), 'acct_create_month_year': TensorSignature(dtype=tf.string, shape=None, is_sparse=True), 'first_browser': TensorSignature(dtype=tf.string, shape=None, is_sparse=True), 'affiliate_provider': TensorSignature(dtype=tf.string, shape=None, is_sparse=True), 'first_device_type': TensorSignature(dtype=tf.string, shape=None, is_sparse=True), 'signup_app': TensorSignature(dtype=tf.string, shape=None, is_sparse=True)}.\n",
      "WARNING:tensorflow:Given targets: Tensor(\"Const_2:0\", shape=(53714,), dtype=int64), required signatures: TensorSignature(dtype=tf.int64, shape=TensorShape([Dimension(159737)]), is_sparse=False).\n",
      "WARNING:tensorflow:Change warning: default value of `enable_centered_bias` will change after 2016-10-09. It will be disabled by default.Instructions for keeping existing behaviour:\n",
      "Explicitly set `enable_centered_bias` to 'True' if you want to keep existing behaviour.\n",
      "WARNING:tensorflow:Using default config.\n",
      "WARNING:tensorflow:Given features: {'signup_flow': <tf.Tensor 'Const_1:0' shape=(159737,) dtype=int64>, 'affiliate_channel': <tensorflow.python.framework.ops.SparseTensor object at 0x13beb2490>, 'language': <tensorflow.python.framework.ops.SparseTensor object at 0x13756e990>, 'first_affiliate_tracked': <tensorflow.python.framework.ops.SparseTensor object at 0x1414f5a10>, 'signup_method': <tensorflow.python.framework.ops.SparseTensor object at 0x13b19fb50>, 'gender': <tensorflow.python.framework.ops.SparseTensor object at 0x139238450>, 'age': <tf.Tensor 'Const:0' shape=(159737,) dtype=int64>, 'acct_create_month_year': <tensorflow.python.framework.ops.SparseTensor object at 0x1354a7450>, 'first_browser': <tensorflow.python.framework.ops.SparseTensor object at 0x13dcd6610>, 'affiliate_provider': <tensorflow.python.framework.ops.SparseTensor object at 0x14d942f10>, 'first_device_type': <tensorflow.python.framework.ops.SparseTensor object at 0x13756df10>, 'signup_app': <tensorflow.python.framework.ops.SparseTensor object at 0x13dcc28d0>}, required signatures: {'signup_flow': TensorSignature(dtype=tf.int64, shape=TensorShape([Dimension(159737)]), is_sparse=False), 'affiliate_channel': TensorSignature(dtype=tf.string, shape=None, is_sparse=True), 'language': TensorSignature(dtype=tf.string, shape=None, is_sparse=True), 'first_affiliate_tracked': TensorSignature(dtype=tf.string, shape=None, is_sparse=True), 'signup_method': TensorSignature(dtype=tf.string, shape=None, is_sparse=True), 'gender': TensorSignature(dtype=tf.string, shape=None, is_sparse=True), 'age': TensorSignature(dtype=tf.int64, shape=TensorShape([Dimension(159737)]), is_sparse=False), 'acct_create_month_year': TensorSignature(dtype=tf.string, shape=None, is_sparse=True), 'first_browser': TensorSignature(dtype=tf.string, shape=None, is_sparse=True), 'affiliate_provider': TensorSignature(dtype=tf.string, shape=None, is_sparse=True), 'first_device_type': TensorSignature(dtype=tf.string, shape=None, is_sparse=True), 'signup_app': TensorSignature(dtype=tf.string, shape=None, is_sparse=True)}.\n",
      "WARNING:tensorflow:Given targets: Tensor(\"Const_2:0\", shape=(159737,), dtype=int64), required signatures: TensorSignature(dtype=tf.int64, shape=TensorShape([Dimension(159737)]), is_sparse=False).\n",
      "WARNING:tensorflow:Given features: {'signup_flow': <tf.Tensor 'Const_1:0' shape=(53714,) dtype=int64>, 'affiliate_channel': <tensorflow.python.framework.ops.SparseTensor object at 0x137508310>, 'language': <tensorflow.python.framework.ops.SparseTensor object at 0x13dcc28d0>, 'first_affiliate_tracked': <tensorflow.python.framework.ops.SparseTensor object at 0x137508850>, 'signup_method': <tensorflow.python.framework.ops.SparseTensor object at 0x13b19fb50>, 'gender': <tensorflow.python.framework.ops.SparseTensor object at 0x13756e990>, 'age': <tf.Tensor 'Const:0' shape=(53714,) dtype=int64>, 'acct_create_month_year': <tensorflow.python.framework.ops.SparseTensor object at 0x137508350>, 'first_browser': <tensorflow.python.framework.ops.SparseTensor object at 0x13e7a7110>, 'affiliate_provider': <tensorflow.python.framework.ops.SparseTensor object at 0x137508050>, 'first_device_type': <tensorflow.python.framework.ops.SparseTensor object at 0x137503910>, 'signup_app': <tensorflow.python.framework.ops.SparseTensor object at 0x1375086d0>}, required signatures: {'signup_flow': TensorSignature(dtype=tf.int64, shape=TensorShape([Dimension(159737)]), is_sparse=False), 'affiliate_channel': TensorSignature(dtype=tf.string, shape=None, is_sparse=True), 'language': TensorSignature(dtype=tf.string, shape=None, is_sparse=True), 'first_affiliate_tracked': TensorSignature(dtype=tf.string, shape=None, is_sparse=True), 'signup_method': TensorSignature(dtype=tf.string, shape=None, is_sparse=True), 'gender': TensorSignature(dtype=tf.string, shape=None, is_sparse=True), 'age': TensorSignature(dtype=tf.int64, shape=TensorShape([Dimension(159737)]), is_sparse=False), 'acct_create_month_year': TensorSignature(dtype=tf.string, shape=None, is_sparse=True), 'first_browser': TensorSignature(dtype=tf.string, shape=None, is_sparse=True), 'affiliate_provider': TensorSignature(dtype=tf.string, shape=None, is_sparse=True), 'first_device_type': TensorSignature(dtype=tf.string, shape=None, is_sparse=True), 'signup_app': TensorSignature(dtype=tf.string, shape=None, is_sparse=True)}.\n",
      "WARNING:tensorflow:Given targets: Tensor(\"Const_2:0\", shape=(53714,), dtype=int64), required signatures: TensorSignature(dtype=tf.int64, shape=TensorShape([Dimension(159737)]), is_sparse=False).\n",
      "WARNING:tensorflow:Change warning: default value of `enable_centered_bias` will change after 2016-10-09. It will be disabled by default.Instructions for keeping existing behaviour:\n",
      "Explicitly set `enable_centered_bias` to 'True' if you want to keep existing behaviour.\n",
      "WARNING:tensorflow:Using default config.\n",
      "WARNING:tensorflow:Given features: {'signup_flow': <tf.Tensor 'Const_1:0' shape=(159737,) dtype=int64>, 'affiliate_channel': <tensorflow.python.framework.ops.SparseTensor object at 0x13b7bd410>, 'language': <tensorflow.python.framework.ops.SparseTensor object at 0x14b0d5650>, 'first_affiliate_tracked': <tensorflow.python.framework.ops.SparseTensor object at 0x14ef9c210>, 'signup_method': <tensorflow.python.framework.ops.SparseTensor object at 0x13e7b1c50>, 'gender': <tensorflow.python.framework.ops.SparseTensor object at 0x13ab06fd0>, 'age': <tf.Tensor 'Const:0' shape=(159737,) dtype=int64>, 'acct_create_month_year': <tensorflow.python.framework.ops.SparseTensor object at 0x145329e50>, 'first_browser': <tensorflow.python.framework.ops.SparseTensor object at 0x13c09ed10>, 'affiliate_provider': <tensorflow.python.framework.ops.SparseTensor object at 0x13a77f110>, 'first_device_type': <tensorflow.python.framework.ops.SparseTensor object at 0x14f149c50>, 'signup_app': <tensorflow.python.framework.ops.SparseTensor object at 0x131167dd0>}, required signatures: {'signup_flow': TensorSignature(dtype=tf.int64, shape=TensorShape([Dimension(159737)]), is_sparse=False), 'affiliate_channel': TensorSignature(dtype=tf.string, shape=None, is_sparse=True), 'language': TensorSignature(dtype=tf.string, shape=None, is_sparse=True), 'first_affiliate_tracked': TensorSignature(dtype=tf.string, shape=None, is_sparse=True), 'signup_method': TensorSignature(dtype=tf.string, shape=None, is_sparse=True), 'gender': TensorSignature(dtype=tf.string, shape=None, is_sparse=True), 'age': TensorSignature(dtype=tf.int64, shape=TensorShape([Dimension(159737)]), is_sparse=False), 'acct_create_month_year': TensorSignature(dtype=tf.string, shape=None, is_sparse=True), 'first_browser': TensorSignature(dtype=tf.string, shape=None, is_sparse=True), 'affiliate_provider': TensorSignature(dtype=tf.string, shape=None, is_sparse=True), 'first_device_type': TensorSignature(dtype=tf.string, shape=None, is_sparse=True), 'signup_app': TensorSignature(dtype=tf.string, shape=None, is_sparse=True)}.\n",
      "WARNING:tensorflow:Given targets: Tensor(\"Const_2:0\", shape=(159737,), dtype=int64), required signatures: TensorSignature(dtype=tf.int64, shape=TensorShape([Dimension(159737)]), is_sparse=False).\n",
      "WARNING:tensorflow:Given features: {'signup_flow': <tf.Tensor 'Const_1:0' shape=(53714,) dtype=int64>, 'affiliate_channel': <tensorflow.python.framework.ops.SparseTensor object at 0x14ff663d0>, 'language': <tensorflow.python.framework.ops.SparseTensor object at 0x13548f3d0>, 'first_affiliate_tracked': <tensorflow.python.framework.ops.SparseTensor object at 0x14ff66bd0>, 'signup_method': <tensorflow.python.framework.ops.SparseTensor object at 0x14ff5d7d0>, 'gender': <tensorflow.python.framework.ops.SparseTensor object at 0x13ab06fd0>, 'age': <tf.Tensor 'Const:0' shape=(53714,) dtype=int64>, 'acct_create_month_year': <tensorflow.python.framework.ops.SparseTensor object at 0x146408590>, 'first_browser': <tensorflow.python.framework.ops.SparseTensor object at 0x14ff66750>, 'affiliate_provider': <tensorflow.python.framework.ops.SparseTensor object at 0x14ff66390>, 'first_device_type': <tensorflow.python.framework.ops.SparseTensor object at 0x14ff66450>, 'signup_app': <tensorflow.python.framework.ops.SparseTensor object at 0x14ff5b6d0>}, required signatures: {'signup_flow': TensorSignature(dtype=tf.int64, shape=TensorShape([Dimension(159737)]), is_sparse=False), 'affiliate_channel': TensorSignature(dtype=tf.string, shape=None, is_sparse=True), 'language': TensorSignature(dtype=tf.string, shape=None, is_sparse=True), 'first_affiliate_tracked': TensorSignature(dtype=tf.string, shape=None, is_sparse=True), 'signup_method': TensorSignature(dtype=tf.string, shape=None, is_sparse=True), 'gender': TensorSignature(dtype=tf.string, shape=None, is_sparse=True), 'age': TensorSignature(dtype=tf.int64, shape=TensorShape([Dimension(159737)]), is_sparse=False), 'acct_create_month_year': TensorSignature(dtype=tf.string, shape=None, is_sparse=True), 'first_browser': TensorSignature(dtype=tf.string, shape=None, is_sparse=True), 'affiliate_provider': TensorSignature(dtype=tf.string, shape=None, is_sparse=True), 'first_device_type': TensorSignature(dtype=tf.string, shape=None, is_sparse=True), 'signup_app': TensorSignature(dtype=tf.string, shape=None, is_sparse=True)}.\n",
      "WARNING:tensorflow:Given targets: Tensor(\"Const_2:0\", shape=(53714,), dtype=int64), required signatures: TensorSignature(dtype=tf.int64, shape=TensorShape([Dimension(159737)]), is_sparse=False).\n",
      "WARNING:tensorflow:Change warning: default value of `enable_centered_bias` will change after 2016-10-09. It will be disabled by default.Instructions for keeping existing behaviour:\n",
      "Explicitly set `enable_centered_bias` to 'True' if you want to keep existing behaviour.\n",
      "WARNING:tensorflow:Using default config.\n",
      "WARNING:tensorflow:Given features: {'signup_flow': <tf.Tensor 'Const_1:0' shape=(159737,) dtype=int64>, 'affiliate_channel': <tensorflow.python.framework.ops.SparseTensor object at 0x14e398a10>, 'language': <tensorflow.python.framework.ops.SparseTensor object at 0x13bf3c050>, 'first_affiliate_tracked': <tensorflow.python.framework.ops.SparseTensor object at 0x144756610>, 'signup_method': <tensorflow.python.framework.ops.SparseTensor object at 0x125a74f90>, 'gender': <tensorflow.python.framework.ops.SparseTensor object at 0x11e9da890>, 'age': <tf.Tensor 'Const:0' shape=(159737,) dtype=int64>, 'acct_create_month_year': <tensorflow.python.framework.ops.SparseTensor object at 0x12b88c910>, 'first_browser': <tensorflow.python.framework.ops.SparseTensor object at 0x12b880190>, 'affiliate_provider': <tensorflow.python.framework.ops.SparseTensor object at 0x14ef53550>, 'first_device_type': <tensorflow.python.framework.ops.SparseTensor object at 0x129983dd0>, 'signup_app': <tensorflow.python.framework.ops.SparseTensor object at 0x13c22e2d0>}, required signatures: {'signup_flow': TensorSignature(dtype=tf.int64, shape=TensorShape([Dimension(159737)]), is_sparse=False), 'affiliate_channel': TensorSignature(dtype=tf.string, shape=None, is_sparse=True), 'language': TensorSignature(dtype=tf.string, shape=None, is_sparse=True), 'first_affiliate_tracked': TensorSignature(dtype=tf.string, shape=None, is_sparse=True), 'signup_method': TensorSignature(dtype=tf.string, shape=None, is_sparse=True), 'gender': TensorSignature(dtype=tf.string, shape=None, is_sparse=True), 'age': TensorSignature(dtype=tf.int64, shape=TensorShape([Dimension(159737)]), is_sparse=False), 'acct_create_month_year': TensorSignature(dtype=tf.string, shape=None, is_sparse=True), 'first_browser': TensorSignature(dtype=tf.string, shape=None, is_sparse=True), 'affiliate_provider': TensorSignature(dtype=tf.string, shape=None, is_sparse=True), 'first_device_type': TensorSignature(dtype=tf.string, shape=None, is_sparse=True), 'signup_app': TensorSignature(dtype=tf.string, shape=None, is_sparse=True)}.\n",
      "WARNING:tensorflow:Given targets: Tensor(\"Const_2:0\", shape=(159737,), dtype=int64), required signatures: TensorSignature(dtype=tf.int64, shape=TensorShape([Dimension(159737)]), is_sparse=False).\n",
      "WARNING:tensorflow:Given features: {'signup_flow': <tf.Tensor 'Const_1:0' shape=(53714,) dtype=int64>, 'affiliate_channel': <tensorflow.python.framework.ops.SparseTensor object at 0x1534f14d0>, 'language': <tensorflow.python.framework.ops.SparseTensor object at 0x1534f1590>, 'first_affiliate_tracked': <tensorflow.python.framework.ops.SparseTensor object at 0x1534f1a50>, 'signup_method': <tensorflow.python.framework.ops.SparseTensor object at 0x1534f1c10>, 'gender': <tensorflow.python.framework.ops.SparseTensor object at 0x11e9da890>, 'age': <tf.Tensor 'Const:0' shape=(53714,) dtype=int64>, 'acct_create_month_year': <tensorflow.python.framework.ops.SparseTensor object at 0x14004c710>, 'first_browser': <tensorflow.python.framework.ops.SparseTensor object at 0x13e7bc2d0>, 'affiliate_provider': <tensorflow.python.framework.ops.SparseTensor object at 0x1534f1ad0>, 'first_device_type': <tensorflow.python.framework.ops.SparseTensor object at 0x1534f1810>, 'signup_app': <tensorflow.python.framework.ops.SparseTensor object at 0x1534f1490>}, required signatures: {'signup_flow': TensorSignature(dtype=tf.int64, shape=TensorShape([Dimension(159737)]), is_sparse=False), 'affiliate_channel': TensorSignature(dtype=tf.string, shape=None, is_sparse=True), 'language': TensorSignature(dtype=tf.string, shape=None, is_sparse=True), 'first_affiliate_tracked': TensorSignature(dtype=tf.string, shape=None, is_sparse=True), 'signup_method': TensorSignature(dtype=tf.string, shape=None, is_sparse=True), 'gender': TensorSignature(dtype=tf.string, shape=None, is_sparse=True), 'age': TensorSignature(dtype=tf.int64, shape=TensorShape([Dimension(159737)]), is_sparse=False), 'acct_create_month_year': TensorSignature(dtype=tf.string, shape=None, is_sparse=True), 'first_browser': TensorSignature(dtype=tf.string, shape=None, is_sparse=True), 'affiliate_provider': TensorSignature(dtype=tf.string, shape=None, is_sparse=True), 'first_device_type': TensorSignature(dtype=tf.string, shape=None, is_sparse=True), 'signup_app': TensorSignature(dtype=tf.string, shape=None, is_sparse=True)}.\n",
      "WARNING:tensorflow:Given targets: Tensor(\"Const_2:0\", shape=(53714,), dtype=int64), required signatures: TensorSignature(dtype=tf.int64, shape=TensorShape([Dimension(159737)]), is_sparse=False).\n",
      "WARNING:tensorflow:Change warning: default value of `enable_centered_bias` will change after 2016-10-09. It will be disabled by default.Instructions for keeping existing behaviour:\n",
      "Explicitly set `enable_centered_bias` to 'True' if you want to keep existing behaviour.\n",
      "WARNING:tensorflow:Using default config.\n",
      "WARNING:tensorflow:Given features: {'signup_flow': <tf.Tensor 'Const_1:0' shape=(159737,) dtype=int64>, 'affiliate_channel': <tensorflow.python.framework.ops.SparseTensor object at 0x13a6e8b10>, 'language': <tensorflow.python.framework.ops.SparseTensor object at 0x126b58990>, 'first_affiliate_tracked': <tensorflow.python.framework.ops.SparseTensor object at 0x1354bdf10>, 'signup_method': <tensorflow.python.framework.ops.SparseTensor object at 0x144756550>, 'gender': <tensorflow.python.framework.ops.SparseTensor object at 0x13cc7ce90>, 'age': <tf.Tensor 'Const:0' shape=(159737,) dtype=int64>, 'acct_create_month_year': <tensorflow.python.framework.ops.SparseTensor object at 0x126d94ed0>, 'first_browser': <tensorflow.python.framework.ops.SparseTensor object at 0x131155910>, 'affiliate_provider': <tensorflow.python.framework.ops.SparseTensor object at 0x13a008150>, 'first_device_type': <tensorflow.python.framework.ops.SparseTensor object at 0x131cc9950>, 'signup_app': <tensorflow.python.framework.ops.SparseTensor object at 0x146442450>}, required signatures: {'signup_flow': TensorSignature(dtype=tf.int64, shape=TensorShape([Dimension(159737)]), is_sparse=False), 'affiliate_channel': TensorSignature(dtype=tf.string, shape=None, is_sparse=True), 'language': TensorSignature(dtype=tf.string, shape=None, is_sparse=True), 'first_affiliate_tracked': TensorSignature(dtype=tf.string, shape=None, is_sparse=True), 'signup_method': TensorSignature(dtype=tf.string, shape=None, is_sparse=True), 'gender': TensorSignature(dtype=tf.string, shape=None, is_sparse=True), 'age': TensorSignature(dtype=tf.int64, shape=TensorShape([Dimension(159737)]), is_sparse=False), 'acct_create_month_year': TensorSignature(dtype=tf.string, shape=None, is_sparse=True), 'first_browser': TensorSignature(dtype=tf.string, shape=None, is_sparse=True), 'affiliate_provider': TensorSignature(dtype=tf.string, shape=None, is_sparse=True), 'first_device_type': TensorSignature(dtype=tf.string, shape=None, is_sparse=True), 'signup_app': TensorSignature(dtype=tf.string, shape=None, is_sparse=True)}.\n",
      "WARNING:tensorflow:Given targets: Tensor(\"Const_2:0\", shape=(159737,), dtype=int64), required signatures: TensorSignature(dtype=tf.int64, shape=TensorShape([Dimension(159737)]), is_sparse=False).\n",
      "WARNING:tensorflow:Given features: {'signup_flow': <tf.Tensor 'Const_1:0' shape=(53714,) dtype=int64>, 'affiliate_channel': <tensorflow.python.framework.ops.SparseTensor object at 0x14e5b1750>, 'language': <tensorflow.python.framework.ops.SparseTensor object at 0x14b0d9c50>, 'first_affiliate_tracked': <tensorflow.python.framework.ops.SparseTensor object at 0x14b0c4790>, 'signup_method': <tensorflow.python.framework.ops.SparseTensor object at 0x131155910>, 'gender': <tensorflow.python.framework.ops.SparseTensor object at 0x13cc7ce90>, 'age': <tf.Tensor 'Const:0' shape=(53714,) dtype=int64>, 'acct_create_month_year': <tensorflow.python.framework.ops.SparseTensor object at 0x14b0c4c90>, 'first_browser': <tensorflow.python.framework.ops.SparseTensor object at 0x14b0c4d10>, 'affiliate_provider': <tensorflow.python.framework.ops.SparseTensor object at 0x14b0c4f90>, 'first_device_type': <tensorflow.python.framework.ops.SparseTensor object at 0x14b0c4650>, 'signup_app': <tensorflow.python.framework.ops.SparseTensor object at 0x14b0c4490>}, required signatures: {'signup_flow': TensorSignature(dtype=tf.int64, shape=TensorShape([Dimension(159737)]), is_sparse=False), 'affiliate_channel': TensorSignature(dtype=tf.string, shape=None, is_sparse=True), 'language': TensorSignature(dtype=tf.string, shape=None, is_sparse=True), 'first_affiliate_tracked': TensorSignature(dtype=tf.string, shape=None, is_sparse=True), 'signup_method': TensorSignature(dtype=tf.string, shape=None, is_sparse=True), 'gender': TensorSignature(dtype=tf.string, shape=None, is_sparse=True), 'age': TensorSignature(dtype=tf.int64, shape=TensorShape([Dimension(159737)]), is_sparse=False), 'acct_create_month_year': TensorSignature(dtype=tf.string, shape=None, is_sparse=True), 'first_browser': TensorSignature(dtype=tf.string, shape=None, is_sparse=True), 'affiliate_provider': TensorSignature(dtype=tf.string, shape=None, is_sparse=True), 'first_device_type': TensorSignature(dtype=tf.string, shape=None, is_sparse=True), 'signup_app': TensorSignature(dtype=tf.string, shape=None, is_sparse=True)}.\n",
      "WARNING:tensorflow:Given targets: Tensor(\"Const_2:0\", shape=(53714,), dtype=int64), required signatures: TensorSignature(dtype=tf.int64, shape=TensorShape([Dimension(159737)]), is_sparse=False).\n"
     ]
    },
    {
     "data": {
      "image/png": "[encoded data removed]",
      "text/plain": [
       "<matplotlib.figure.Figure at 0x128a53350>"
      ]
     },
     "metadata": {},
     "output_type": "display_data"
    }
   ],
   "source": [
    "# Loop through hidden units parameter\n",
    "step = 500\n",
    "HIDDEN_UNITS = [[10],[10, 10],[10, 10, 10], [10, 10, 10, 10], [10, 10, 10, 10, 10], [10, 10, 10, 10, 10, 10]]\n",
    "\n",
    "def DNN_parameters(step_arg, hidden_unit):\n",
    "\n",
    "    model_dir = tempfile.mkdtemp()\n",
    "    dnn_hidden = tf.contrib.learn.DNNLinearCombinedClassifier(\n",
    "        model_dir = model_dir,\n",
    "        dnn_feature_columns=deep_columns,\n",
    "        dnn_hidden_units=hidden_unit,\n",
    "        n_classes= 13)\n",
    "    dnn_hidden.fit(input_fn = train_input_fn, steps = step_arg)\n",
    "    \n",
    "    accuracy_training = dnn_hidden.evaluate(input_fn = train_input_fn, steps = 1)\n",
    "    accuracy_validation = dnn_hidden.evaluate(input_fn = eval_input_fn, steps = 1)\n",
    "    return accuracy_training['accuracy'], accuracy_validation['accuracy']\n",
    "\n",
    "accuracy_trainings = []\n",
    "accuracy_validations = []\n",
    "for hidden_unit in HIDDEN_UNITS:\n",
    "    accuracies = DNN_parameters(step_arg = 500, hidden_unit = hidden_unit)\n",
    "    accuracy_trainings.append(accuracies[0])\n",
    "    accuracy_validations.append(accuracies[1])\n",
    "\n",
    "# Output a graph of loss metrics over periods.\n",
    "plt.figure(figsize=(4,3))\n",
    "plt.ylabel(\"Accuracy\")\n",
    "plt.xlabel(\"# of Hidden units\")\n",
    "plt.title(\"Neural Network Accuracy vs. # of hidden units\", fontsize= 10)\n",
    "plt.plot(accuracy_trainings, label='training')\n",
    "plt.plot(accuracy_validations, label='validation')\n",
    "plt.legend(loc = 4, fontsize= 10)\n",
    "plt.show()\n"
   ]
  }
 ],
 "metadata": {
  "anaconda-cloud": {},
  "kernelspec": {
   "display_name": "Python [conda env:tensorflow]",
   "language": "python",
   "name": "conda-env-tensorflow-py"
  },
  "language_info": {
   "codemirror_mode": {
    "name": "ipython",
    "version": 2
   },
   "file_extension": ".py",
   "mimetype": "text/x-python",
   "name": "python",
   "nbconvert_exporter": "python",
   "pygments_lexer": "ipython2",
   "version": "2.7.12"
  }
 },
 "nbformat": 4,
 "nbformat_minor": 0
}
